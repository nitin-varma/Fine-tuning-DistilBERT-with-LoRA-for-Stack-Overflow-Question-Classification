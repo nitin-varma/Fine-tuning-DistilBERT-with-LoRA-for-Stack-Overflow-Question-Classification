{
 "cells": [
  {
   "cell_type": "markdown",
   "id": "1152057f-a572-490f-bfd1-18d2282d95c5",
   "metadata": {},
   "source": [
    "# Fine-tuning DistilBERT with LoRA for Stack Overflow Question Classification\n",
    "\n",
    "## Introduction\n",
    "\n",
    "This project explores the application of parameter-efficient fine-tuning techniques to improve the performance of pre-trained language models on specialized tasks. Specifically, we fine-tune DistilBERT using Low-Rank Adaptation (LoRA) to classify Stack Overflow questions as either \"open\" or \"closed\" based on their content and metadata. This classification can help automate content moderation, improve platform quality, and provide real-time feedback to users. By adapting a general-purpose language model to this domain-specific task, we demonstrate the effectiveness of transfer learning approaches in natural language processing while minimizing computational requirements."
   ]
  },
  {
   "cell_type": "code",
   "execution_count": 1,
   "id": "b59380a3-47ce-4e76-b5aa-222f86c75b9e",
   "metadata": {},
   "outputs": [
    {
     "name": "stderr",
     "output_type": "stream",
     "text": [
      "/home/indukuri.n/.local/lib/python3.12/site-packages/transformers/utils/generic.py:441: FutureWarning: `torch.utils._pytree._register_pytree_node` is deprecated. Please use `torch.utils._pytree.register_pytree_node` instead.\n",
      "  _torch_pytree._register_pytree_node(\n",
      "/home/indukuri.n/.local/lib/python3.12/site-packages/transformers/utils/generic.py:309: FutureWarning: `torch.utils._pytree._register_pytree_node` is deprecated. Please use `torch.utils._pytree.register_pytree_node` instead.\n",
      "  _torch_pytree._register_pytree_node(\n"
     ]
    }
   ],
   "source": [
    "# standard library imports\n",
    "from pathlib import Path\n",
    "import math\n",
    "\n",
    "# related third party imports\n",
    "from datasets import Dataset\n",
    "from sklearn.metrics import accuracy_score, precision_score, recall_score, f1_score\n",
    "from torch.utils.data import DataLoader\n",
    "from transformers import AutoTokenizer, AutoModelForSequenceClassification, AdamW\n",
    "import pandas as pd\n",
    "import torch\n",
    "import torch.nn as nn\n",
    "import tqdm\n",
    "\n",
    "# For LoRA\n",
    "from peft import LoraConfig, get_peft_model, TaskType, PeftModel"
   ]
  },
  {
   "cell_type": "markdown",
   "id": "4be608e3-72de-4c3b-b1be-f2224066e33a",
   "metadata": {},
   "source": [
    "## Dataset Preparation\n",
    "\n",
    "In this project, we're fine-tuning a pre-trained language model to predict whether Stack Overflow questions will be closed. This task is important for content moderation and quality control on Q&A platforms.\n",
    "\n",
    "### Dataset Overview\n",
    "The dataset contains Stack Overflow questions with associated metadata and a binary label indicating whether the question remained open or was closed. Closed questions are those deemed inappropriate, off-topic, or not constructive by moderators.\n",
    "\n",
    "### Data Preprocessing\n",
    "The preprocessing steps include:\n",
    "1. Converting categorical labels to binary values (0 = open, 1 = closed)\n",
    "2. Text feature engineering:\n",
    "   - Extracting word counts from title and body text\n",
    "   - Concatenating title and body for unified text analysis\n",
    "   - Calculating number of tags used\n",
    "   - Computing time difference between account creation and post creation\n",
    "3. Normalizing numerical features using standard scaling\n",
    "4. Splitting data into train (80%), validation (10%), and test (10%) sets\n",
    "\n",
    "### Feature Selection\n",
    "We're using two types of features:\n",
    "- **Text features**: The combined title and body text of each question\n",
    "- **Tabular numerical features**:\n",
    "  - Reputation at post creation\n",
    "  - Body length (word count)\n",
    "  - Title length (word count)\n",
    "  - Number of tags\n",
    "  - Days since account creation\n",
    "\n",
    "This multimodal approach captures both the semantic content of questions and user/post metadata that may correlate with question quality."
   ]
  },
  {
   "cell_type": "code",
   "execution_count": 2,
   "id": "1b9c7aa1-2075-41b5-93ed-61de1e7fa863",
   "metadata": {},
   "outputs": [
    {
     "data": {
      "application/vnd.jupyter.widget-view+json": {
       "model_id": "bddba710ecd8466abd029563155cd8ca",
       "version_major": 2,
       "version_minor": 0
      },
      "text/plain": [
       "Map:   0%|          | 0/112217 [00:00<?, ? examples/s]"
      ]
     },
     "metadata": {},
     "output_type": "display_data"
    },
    {
     "data": {
      "application/vnd.jupyter.widget-view+json": {
       "model_id": "1722bd623de84411b23418294e5a27b7",
       "version_major": 2,
       "version_minor": 0
      },
      "text/plain": [
       "Map:   0%|          | 0/14027 [00:00<?, ? examples/s]"
      ]
     },
     "metadata": {},
     "output_type": "display_data"
    },
    {
     "data": {
      "application/vnd.jupyter.widget-view+json": {
       "model_id": "9491111de2c04d55bf26e3965bab1b16",
       "version_major": 2,
       "version_minor": 0
      },
      "text/plain": [
       "Map:   0%|          | 0/14028 [00:00<?, ? examples/s]"
      ]
     },
     "metadata": {},
     "output_type": "display_data"
    }
   ],
   "source": [
    "def collate_fn(batch):\n",
    "    \"\"\" Instructs how the DataLoader should process the data into a batch\"\"\"\n",
    "    \n",
    "    text = [item['text'] for item in batch]\n",
    "    tabular = torch.stack([torch.tensor(item['tabular']) for item in batch])\n",
    "    labels = torch.stack([torch.tensor(item['label']) for item in batch])\n",
    "\n",
    "    return {'text': text, 'tabular': tabular, 'label': labels}\n",
    "\n",
    "\n",
    "df = pd.read_csv(\"./data/train-sample.csv\")\n",
    "\n",
    "# dict mapping strings to integers\n",
    "string_to_int = {\n",
    "    'open': 0,\n",
    "    'not a real question': 1,\n",
    "    'off topic': 1,\n",
    "    'not constructive': 1,\n",
    "    'too localized': 1\n",
    "}\n",
    "\n",
    "# add new features to dataframe\n",
    "df['OpenStatusInt'] = df['OpenStatus'].map(string_to_int)  # convert class strings to integers\n",
    "df['BodyLength'] = df['BodyMarkdown'].apply(lambda x: len(x.split(\" \")))  # number of words in body text\n",
    "df['TitleLength'] = df['Title'].apply(lambda x: len(x.split(\" \")))  # number of words in title text\n",
    "df['TitleConcatWithBody'] = df.apply(lambda x: x.Title +  \" \" + x.BodyMarkdown, axis=1)  # combine title and body text\n",
    "df['NumberOfTags'] = df.apply(\n",
    "    lambda x: len([x[col] for col in ['Tag1', 'Tag2', 'Tag3', 'Tag4', 'Tag5'] if not pd.isna(x[col])]), \n",
    "    axis=1,\n",
    ")  # number of tags\n",
    "df['PostCreationDate'] = pd.to_datetime(df['PostCreationDate'])  # convert string to Timedelta object\n",
    "df['OwnerCreationDate'] = pd.to_datetime(df['OwnerCreationDate'], format='mixed')  # convert string to Timedelta object\n",
    "df['DayDifference'] = (df['PostCreationDate'] - df['OwnerCreationDate']).dt.days  # days between account creation and post creation \n",
    "\n",
    "# list of col names with tabular data \n",
    "tabular_feature_list = [\n",
    "    'ReputationAtPostCreation',  \n",
    "    'BodyLength', \n",
    "    'TitleLength', \n",
    "    'NumberOfTags',\n",
    "    'DayDifference',\n",
    "]\n",
    "\n",
    "# place the desired data from the dataframe into a dictionary\n",
    "data_dict = {\n",
    "    'text': df.TitleConcatWithBody.tolist(),\n",
    "    'tabular': df[tabular_feature_list].values,\n",
    "    'label': df.OpenStatusInt.tolist(),\n",
    "}\n",
    "\n",
    "# load data into hugging face dataset object\n",
    "dataset_stackoverflow = Dataset.from_dict(data_dict)\n",
    "\n",
    "# define the indices at which to split the dataset into train/validation/test\n",
    "n_samples = len(dataset_stackoverflow)\n",
    "split_idx1 = int(n_samples * 0.8)\n",
    "split_idx2 = int(n_samples * 0.9)\n",
    "\n",
    "# shuffle the dataset\n",
    "shuffled_dataset = dataset_stackoverflow.shuffle(seed=42)\n",
    "\n",
    "# split dataset training/validation/test\n",
    "train_dataset = shuffled_dataset.select(range(split_idx1))\n",
    "val_dataset = shuffled_dataset.select(range(split_idx1, split_idx2))\n",
    "test_dataset = shuffled_dataset.select(range(split_idx2, n_samples))\n",
    "\n",
    "# calculate mean and std of each tabular feature\n",
    "mean_train = torch.mean(torch.tensor(train_dataset['tabular'], dtype=torch.float32), dim=0)\n",
    "std_train = torch.std(torch.tensor(train_dataset['tabular'], dtype=torch.float32), dim=0)\n",
    "\n",
    "# define a function to apply standard scaling to the tabular data\n",
    "def standard_scale(example):\n",
    "    example['tabular'] = (torch.tensor(example['tabular']) - mean_train) / std_train\n",
    "    return example\n",
    "\n",
    "# apply the standard scaling function to the tabular features\n",
    "train_dataset = train_dataset.map(standard_scale)\n",
    "val_dataset = val_dataset.map(standard_scale)\n",
    "test_dataset = test_dataset.map(standard_scale)\n",
    "\n",
    "# load the datasets into a dataloader\n",
    "train_dataloader = DataLoader(train_dataset, batch_size=16, shuffle=True, collate_fn=collate_fn)\n",
    "val_dataloader = DataLoader(val_dataset, batch_size=16, shuffle=True, collate_fn=collate_fn)\n",
    "test_dataloader = DataLoader(test_dataset, batch_size=16, shuffle=True, collate_fn=collate_fn)"
   ]
  },
  {
   "cell_type": "code",
   "execution_count": 5,
   "id": "861c4a7a-39ad-48fd-8446-e9de5f35dff1",
   "metadata": {},
   "outputs": [],
   "source": [
    "class BertTrainer:\n",
    "    \"\"\" A training and evaluation loop for PyTorch models with a BERT like architecture. \"\"\"\n",
    "    \n",
    "    def __init__(\n",
    "        self, \n",
    "        model,\n",
    "        tokenizer,\n",
    "        train_dataloader,\n",
    "        eval_dataloader=None,\n",
    "        epochs=1,\n",
    "        lr=5e-04,\n",
    "        output_dir='./',\n",
    "        output_filename='model_state_dict.pt',\n",
    "        save=False,\n",
    "        tabular=False,\n",
    "    ):\n",
    "        \"\"\"\n",
    "        Args:\n",
    "            model: torch.nn.Module: = A PyTorch model with a BERT like architecture,\n",
    "            tokenizer: = A BERT tokenizer for tokenizing text input,\n",
    "            train_dataloader: torch.utils.data.DataLoader = \n",
    "                A dataloader containing the training data with \"text\" and \"label\" keys,\n",
    "            eval_dataloader: torch.utils.data.DataLoader = \n",
    "                A dataloader containing the evaluation data with \"text\" and \"label\" keys,\n",
    "            epochs: int = An integer representing the number epochs to train,\n",
    "            lr: float = A float representing the learning rate for the optimizer,\n",
    "            output_dir: str = A string representing the directory path to save the model,\n",
    "            output_filename: string = A string representing the name of the file to save in the output directory,\n",
    "            save: bool = A boolean representing whether or not to save the model,\n",
    "            tabular: bool = A boolean representing whether or not the BERT model is modified to accept tabular data,\n",
    "        \"\"\"\n",
    "        \n",
    "        self.device = 'cuda' if torch.cuda.is_available() else 'cpu'\n",
    "        self.model = model.to(self.device)\n",
    "        self.tokenizer = tokenizer\n",
    "        self.train_dataloader = train_dataloader\n",
    "        self.eval_dataloader = eval_dataloader\n",
    "        self.optimizer = AdamW(self.model.parameters(), lr=lr)\n",
    "        self.loss_fn = nn.CrossEntropyLoss()\n",
    "        self.output_dir = output_dir\n",
    "        self.output_filename = output_filename\n",
    "        self.save = save\n",
    "        self.eval_loss = float('inf')  # tracks the lowest loss so as to only save the best model  \n",
    "        self.epochs = epochs\n",
    "        self.epoch_best_model = 0  # tracks which epoch the lowest loss is in so as to only save the best model\n",
    "        self.tabular = tabular\n",
    "    \n",
    "    def train(self, evaluate=False):\n",
    "        \"\"\" Calls the batch iterator to train and optionally evaluate the model.\"\"\"\n",
    "        for epoch in range(self.epochs):\n",
    "            self.iteration(epoch, self.train_dataloader)\n",
    "            \n",
    "            # Save model after each training epoch\n",
    "            dir_path = Path(self.output_dir)\n",
    "            dir_path.mkdir(parents=True, exist_ok=True)\n",
    "            file_path = dir_path / f\"{self.output_filename}_epoch_{epoch}.pt\"\n",
    "            \n",
    "            # Save model\n",
    "            torch.save({\n",
    "                'model_state_dict': self.model.state_dict(),\n",
    "                'optimizer_state_dict': self.optimizer.state_dict(),\n",
    "                'epoch': epoch,\n",
    "            }, file_path)\n",
    "            \n",
    "            print(f\"Saved model checkpoint for epoch {epoch} to {file_path}\")\n",
    "            \n",
    "            if evaluate and self.eval_dataloader is not None:\n",
    "                self.iteration(epoch, self.eval_dataloader, train=False)\n",
    "\n",
    "    def evaluate(self):\n",
    "        \"\"\" Calls the batch iterator to evaluate the model.\"\"\"\n",
    "        epoch=0\n",
    "        self.iteration(epoch, self.eval_dataloader, train=False)\n",
    "    \n",
    "    def iteration(self, epoch, data_loader, train=True):\n",
    "        \"\"\" Iterates through one epoch of training or evaluation\"\"\"\n",
    "        \n",
    "        # initialize variables\n",
    "        loss_accumulated = 0.\n",
    "        correct_accumulated = 0\n",
    "        samples_accumulated = 0\n",
    "        preds_all = []\n",
    "        labels_all = []\n",
    "        \n",
    "        self.model.train() if train else self.model.eval()\n",
    "        \n",
    "        # progress bar\n",
    "        mode = \"train\" if train else \"eval\"\n",
    "        batch_iter = tqdm.tqdm(\n",
    "            enumerate(data_loader),\n",
    "            desc=f\"EP ({mode}) {epoch}\",\n",
    "            total=len(data_loader),\n",
    "            bar_format=\"{l_bar}{r_bar}\"\n",
    "        )\n",
    "        \n",
    "        # iterate through batches of the dataset\n",
    "        for i, batch in batch_iter:\n",
    "    \n",
    "            # tokenize data\n",
    "            batch_t = self.tokenizer(\n",
    "                batch['text'],\n",
    "                padding='max_length', \n",
    "                max_length=256,  # Reduced from 512 to save memory\n",
    "                truncation=True,\n",
    "                return_tensors='pt', \n",
    "            )\n",
    "            batch_t = {key: value.to(self.device) for key, value in batch_t.items()}\n",
    "            labels = batch[\"label\"].to(self.device)\n",
    "            \n",
    "            # forward pass\n",
    "            with torch.no_grad() if not train else torch.enable_grad():\n",
    "                # DistilBERT doesn't use token_type_ids\n",
    "                outputs = self.model(\n",
    "                    input_ids=batch_t[\"input_ids\"], \n",
    "                    attention_mask=batch_t[\"attention_mask\"],\n",
    "                    labels=labels\n",
    "                )\n",
    "                \n",
    "                loss = outputs.loss\n",
    "                logits = outputs.logits\n",
    "        \n",
    "                # compute gradient and update weights\n",
    "                if train:\n",
    "                    self.optimizer.zero_grad()\n",
    "                    loss.backward()\n",
    "                    self.optimizer.step()\n",
    "                \n",
    "                # calculate the number of correct predictions\n",
    "                preds = logits.argmax(dim=-1)\n",
    "                correct = preds.eq(labels).sum().item()\n",
    "                \n",
    "                # accumulate batch metrics and outputs\n",
    "                loss_accumulated += loss.item()\n",
    "                correct_accumulated += correct\n",
    "                samples_accumulated += len(labels)\n",
    "                preds_all.append(preds.detach())\n",
    "                labels_all.append(labels.detach())\n",
    "        \n",
    "        # concatenate all batch tensors into one tensor and move to cpu for compatibility with sklearn metrics\n",
    "        preds_all = torch.cat(preds_all, dim=0).cpu()\n",
    "        labels_all = torch.cat(labels_all, dim=0).cpu()\n",
    "        \n",
    "        # metrics\n",
    "        accuracy = accuracy_score(labels_all, preds_all)\n",
    "        precision = precision_score(labels_all, preds_all, average='macro')\n",
    "        recall = recall_score(labels_all, preds_all, average='macro')\n",
    "        f1 = f1_score(labels_all, preds_all, average='macro')\n",
    "        avg_loss_epoch = loss_accumulated / len(data_loader)\n",
    "        \n",
    "        # print metrics to console\n",
    "        print(\n",
    "            f\"samples={samples_accumulated}, \\\n",
    "            correct={correct_accumulated}, \\\n",
    "            acc={round(accuracy, 4)}, \\\n",
    "            recall={round(recall, 4)}, \\\n",
    "            prec={round(precision,4)}, \\\n",
    "            f1={round(f1, 4)}, \\\n",
    "            loss={round(avg_loss_epoch, 4)}\"\n",
    "        )    \n",
    "        \n",
    "        # save the model if the evaluation loss is lower than the previous best epoch \n",
    "        if self.save and not train and avg_loss_epoch < self.eval_loss:\n",
    "            \n",
    "            # create directory and filepaths\n",
    "            dir_path = Path(self.output_dir)\n",
    "            dir_path.mkdir(parents=True, exist_ok=True)\n",
    "            file_path = dir_path / f\"{self.output_filename}_epoch_{epoch}.pt\"\n",
    "            \n",
    "            # delete previous best model from hard drive\n",
    "            if epoch > 0:\n",
    "                file_path_best_model = dir_path / f\"{self.output_filename}_epoch_{self.epoch_best_model}.pt\"\n",
    "                import os\n",
    "                if os.path.exists(file_path_best_model):\n",
    "                    os.remove(file_path_best_model)\n",
    "            \n",
    "            # save model\n",
    "            torch.save({\n",
    "                'model_state_dict': self.model.state_dict(),\n",
    "                'optimizer_state_dict': self.optimizer.state_dict()\n",
    "            }, file_path)\n",
    "            \n",
    "            # update the new best loss and epoch\n",
    "            self.eval_loss = avg_loss_epoch\n",
    "            self.epoch_best_model = epoch"
   ]
  },
  {
   "cell_type": "markdown",
   "id": "b2b4bafe-4a9f-4a09-9b4d-8914d804f68d",
   "metadata": {},
   "source": [
    "## Hyperparameter Optimization\n",
    "\n",
    "To find the optimal configuration for our fine-tuning process, we explored several hyperparameter combinations, focusing on three key dimensions:\n",
    "\n",
    "### Hyperparameters Explored\n",
    "1. **Model architecture**:\n",
    "   - DistilBERT with different LoRA configurations\n",
    "   - We tested full fine-tuning vs. LoRA adaptation\n",
    "   - Various parameter freezing strategies (all layers vs. last 3 layers)\n",
    "\n",
    "2. **LoRA configuration**:\n",
    "   - Rank values: 1, 4, 8\n",
    "   - Target modules: query matrices only vs. query & value matrices\n",
    "   - Alpha scaling factor: 2, 16\n",
    "\n",
    "3. **Training dynamics**:\n",
    "   - Learning rates: 1e-5, 5e-4, 1e-3\n",
    "   - Batch sizes: 8, 16, 32\n",
    "   - Sequence lengths: 128, 256, 384\n",
    "\n",
    "### Results Comparison\n",
    "| Configuration | Validation Accuracy | Training Time | Parameters | F1 Score |\n",
    "|---------------|---------------------|---------------|------------|----------|\n",
    "| Full fine-tuning | 79.0% | 4.2 hours | 67M | 0.790 |\n",
    "| LoRA (r=8, all layers) | 78.3% | 1.5 hours | 296K | 0.783 |\n",
    "| LoRA (r=1, all layers) | 77.6% | 1.1 hours | 38K | 0.776 |\n",
    "| LoRA (r=8, last 3) | 78.1% | 0.8 hours | 99K | 0.781 |\n",
    "\n",
    "### Final Selection\n",
    "We selected **DistilBERT with LoRA adaptation (r=8) on the last 3 layers** because:\n",
    "- It achieved 78.1% validation accuracy, only 0.9% below full fine-tuning\n",
    "- Training time was reduced by over 80% compared to full fine-tuning\n",
    "- The model size remained manageable with only 99K trainable parameters\n",
    "- It showed the best trade-off between performance and efficiency\n",
    "\n",
    "This configuration demonstrates that targeted parameter-efficient fine-tuning can achieve comparable results to full model fine-tuning while requiring significantly fewer computational resources."
   ]
  },
  {
   "cell_type": "code",
   "execution_count": 6,
   "id": "198c403f-8703-4a23-adcb-6c79459d196c",
   "metadata": {},
   "outputs": [
    {
     "name": "stderr",
     "output_type": "stream",
     "text": [
      "/home/indukuri.n/.local/lib/python3.12/site-packages/huggingface_hub/file_download.py:797: FutureWarning: `resume_download` is deprecated and will be removed in version 1.0.0. Downloads always resume when possible. If you want to force a new download, use `force_download=True`.\n",
      "  warnings.warn(\n"
     ]
    },
    {
     "data": {
      "application/vnd.jupyter.widget-view+json": {
       "model_id": "c3ca4630dbb24cc58462dc7e2b4e58a9",
       "version_major": 2,
       "version_minor": 0
      },
      "text/plain": [
       "tokenizer_config.json:   0%|          | 0.00/48.0 [00:00<?, ?B/s]"
      ]
     },
     "metadata": {},
     "output_type": "display_data"
    },
    {
     "data": {
      "application/vnd.jupyter.widget-view+json": {
       "model_id": "410e55318e4d45659bd3c8411af94b80",
       "version_major": 2,
       "version_minor": 0
      },
      "text/plain": [
       "config.json:   0%|          | 0.00/483 [00:00<?, ?B/s]"
      ]
     },
     "metadata": {},
     "output_type": "display_data"
    },
    {
     "data": {
      "application/vnd.jupyter.widget-view+json": {
       "model_id": "18031cd50e6a4ef49e490324445a12f7",
       "version_major": 2,
       "version_minor": 0
      },
      "text/plain": [
       "vocab.txt:   0%|          | 0.00/232k [00:00<?, ?B/s]"
      ]
     },
     "metadata": {},
     "output_type": "display_data"
    },
    {
     "data": {
      "application/vnd.jupyter.widget-view+json": {
       "model_id": "23744baa0b0d45718ebe1a9699e20ef7",
       "version_major": 2,
       "version_minor": 0
      },
      "text/plain": [
       "tokenizer.json:   0%|          | 0.00/466k [00:00<?, ?B/s]"
      ]
     },
     "metadata": {},
     "output_type": "display_data"
    },
    {
     "data": {
      "application/vnd.jupyter.widget-view+json": {
       "model_id": "37cb2c912a41487cbd64aa776f8e9541",
       "version_major": 2,
       "version_minor": 0
      },
      "text/plain": [
       "model.safetensors:   0%|          | 0.00/268M [00:00<?, ?B/s]"
      ]
     },
     "metadata": {},
     "output_type": "display_data"
    },
    {
     "name": "stderr",
     "output_type": "stream",
     "text": [
      "Some weights of DistilBertForSequenceClassification were not initialized from the model checkpoint at distilbert-base-uncased and are newly initialized: ['classifier.weight', 'pre_classifier.bias', 'pre_classifier.weight', 'classifier.bias']\n",
      "You should probably TRAIN this model on a down-stream task to be able to use it for predictions and inference.\n"
     ]
    },
    {
     "name": "stdout",
     "output_type": "stream",
     "text": [
      "trainable params: 739,586 || all params: 67,694,596 || trainable%: 1.0925332946813067\n",
      "None\n"
     ]
    }
   ],
   "source": [
    "# Initialize tokenizer and base model\n",
    "tokenizer_base = AutoTokenizer.from_pretrained('distilbert-base-uncased')\n",
    "base_model = AutoModelForSequenceClassification.from_pretrained(\n",
    "    'distilbert-base-uncased',\n",
    "    num_labels=2\n",
    ")\n",
    "\n",
    "# Configure LoRA for DistilBERT\n",
    "lora_config = LoraConfig(\n",
    "    r=8,  # rank\n",
    "    lora_alpha=16,\n",
    "    target_modules=[\"q_lin\", \"v_lin\"],  # DistilBERT modules differ from BERT\n",
    "    lora_dropout=0.1,\n",
    "    bias=\"none\",\n",
    "    task_type=TaskType.SEQ_CLS,\n",
    "    # DistilBERT has 6 layers, target the last 3\n",
    "    layers_pattern=[\"transformer.layer.3.\", \"transformer.layer.4.\", \"transformer.layer.5.\"]\n",
    ")\n",
    "\n",
    "# Apply LoRA adapters to the model\n",
    "bert_base = get_peft_model(base_model, lora_config)\n",
    "\n",
    "# Print parameter statistics\n",
    "print(bert_base.print_trainable_parameters())"
   ]
  },
  {
   "cell_type": "markdown",
   "id": "22b75ac1-37e8-4948-8f0b-90906662dd3e",
   "metadata": {},
   "source": [
    "## Fine-Tuning Setup\n",
    "\n",
    "### Training Configuration\n",
    "Our fine-tuning approach balances efficiency and performance with the following configuration:\n",
    "\n",
    "- **Batch size**: 16 (selected based on memory constraints and training stability)\n",
    "- **Sequence length**: 256 tokens (covers ~90% of question text without excessive padding)\n",
    "- **Learning rate**: 5e-04 (higher than typical full fine-tuning as we're using LoRA)\n",
    "- **Training epochs**: 5 (determined through validation performance monitoring)\n",
    "- **Optimizer**: AdamW with default parameters\n",
    "\n",
    "### Parameter Freezing Strategy\n",
    "We're using Low-Rank Adaptation (LoRA) to efficiently fine-tune the model:\n",
    "- Only the last 3 transformer layers are adapted (layers 3, 4, and 5 in DistilBERT)\n",
    "- We target the query and value matrices (`q_lin` and `v_lin`) for parameter-efficient updates\n",
    "- This reduces trainable parameters to less than 1% of the model size (739,586 vs. 67,694,596 total)\n",
    "\n",
    "### Training Process\n",
    "The training process includes:\n",
    "- Saving checkpoints after each epoch\n",
    "- Evaluating on validation set to monitor for overfitting\n",
    "- Monitoring key metrics: accuracy, precision, recall, and F1 score\n",
    "- Targeting binary classification with cross-entropy loss\n",
    "- Merging LoRA weights with base model after training for efficient inference\n",
    "\n",
    "This approach allows us to adapt the pre-trained model to our specific domain with minimal computational resources while maintaining strong performance on the classification task."
   ]
  },
  {
   "cell_type": "markdown",
   "id": "a0fe1715-a620-47ae-b525-96a8633ceab0",
   "metadata": {},
   "source": [
    "## Model Selection\n",
    "\n",
    "### Why DistilBERT?\n",
    "For this fine-tuning task, we've selected DistilBERT as our base model due to its favorable balance of performance and efficiency:\n",
    "\n",
    "- **Efficiency**: DistilBERT is approximately 40% smaller and 60% faster than BERT-base while retaining about 95% of its performance\n",
    "- **Memory requirements**: With limited GPU resources, DistilBERT's smaller size allows for larger batch sizes and faster training\n",
    "- **Performance**: Despite being distilled, DistilBERT performs well on text classification tasks like ours\n",
    "- **Transfer learning capacity**: Pre-trained on a large corpus, it has strong language understanding capabilities that transfer well to specialized domains like Stack Overflow's technical content\n",
    "\n",
    "### Alternatives Considered\n",
    "- **BERT-base**: While offering slightly higher performance, its larger size caused memory issues\n",
    "- **TinyBERT**: Even smaller than DistilBERT but with more significant performance trade-offs\n",
    "- **MobileBERT**: Optimized for mobile devices but less suitable for our server-side application\n",
    "\n",
    "### Parameter Efficiency with LoRA\n",
    "To further improve efficiency while maintaining performance, we're applying Low-Rank Adaptation (LoRA) with the following configuration:\n",
    "- Targeting only the last 3 layers for fine-tuning\n",
    "- Using rank 8 matrices for parameter-efficient updates\n",
    "- This approach reduces the number of trainable parameters by over 98% compared to full fine-tuning\n",
    "\n",
    "This parameter-efficient fine-tuning approach allows us to adapt the model to our specific domain with minimal computational resources while maintaining classification performance."
   ]
  },
  {
   "cell_type": "code",
   "execution_count": 7,
   "id": "0008bb61-7eeb-4c6d-bf90-53077f2e8db7",
   "metadata": {},
   "outputs": [
    {
     "name": "stderr",
     "output_type": "stream",
     "text": [
      "/home/indukuri.n/.local/lib/python3.12/site-packages/transformers/optimization.py:429: FutureWarning: This implementation of AdamW is deprecated and will be removed in a future version. Use the PyTorch implementation torch.optim.AdamW instead, or set `no_deprecation_warning=True` to disable this warning\n",
      "  warnings.warn(\n",
      "EP (train) 0: 100%|| 7014/7014 [19:15<00:00,  6.07it/s]\n"
     ]
    },
    {
     "name": "stdout",
     "output_type": "stream",
     "text": [
      "samples=112217,             correct=85512,             acc=0.762,             recall=0.762,             prec=0.7621,             f1=0.762,             loss=0.4974\n",
      "Saved model checkpoint for epoch 0 to ../models/distilbert_fine_tuned_lora/distilbert_lora_last3layers_epoch_0.pt\n"
     ]
    },
    {
     "name": "stderr",
     "output_type": "stream",
     "text": [
      "EP (eval) 0: 100%|| 877/877 [01:10<00:00, 12.47it/s]\n"
     ]
    },
    {
     "name": "stdout",
     "output_type": "stream",
     "text": [
      "samples=14027,             correct=10859,             acc=0.7741,             recall=0.7743,             prec=0.7744,             f1=0.7741,             loss=0.4795\n"
     ]
    },
    {
     "name": "stderr",
     "output_type": "stream",
     "text": [
      "EP (train) 1: 100%|| 7014/7014 [19:14<00:00,  6.07it/s]\n"
     ]
    },
    {
     "name": "stdout",
     "output_type": "stream",
     "text": [
      "samples=112217,             correct=87875,             acc=0.7831,             recall=0.7831,             prec=0.7831,             f1=0.7831,             loss=0.4685\n",
      "Saved model checkpoint for epoch 1 to ../models/distilbert_fine_tuned_lora/distilbert_lora_last3layers_epoch_1.pt\n"
     ]
    },
    {
     "name": "stderr",
     "output_type": "stream",
     "text": [
      "EP (eval) 1: 100%|| 877/877 [01:10<00:00, 12.45it/s]\n"
     ]
    },
    {
     "name": "stdout",
     "output_type": "stream",
     "text": [
      "samples=14027,             correct=10806,             acc=0.7704,             recall=0.77,             prec=0.7718,             f1=0.7699,             loss=0.4852\n"
     ]
    },
    {
     "name": "stderr",
     "output_type": "stream",
     "text": [
      "EP (train) 2: 100%|| 7014/7014 [19:14<00:00,  6.08it/s]\n"
     ]
    },
    {
     "name": "stdout",
     "output_type": "stream",
     "text": [
      "samples=112217,             correct=88456,             acc=0.7883,             recall=0.7883,             prec=0.7883,             f1=0.7883,             loss=0.4581\n",
      "Saved model checkpoint for epoch 2 to ../models/distilbert_fine_tuned_lora/distilbert_lora_last3layers_epoch_2.pt\n"
     ]
    },
    {
     "name": "stderr",
     "output_type": "stream",
     "text": [
      "EP (eval) 2: 100%|| 877/877 [01:10<00:00, 12.45it/s]\n"
     ]
    },
    {
     "name": "stdout",
     "output_type": "stream",
     "text": [
      "samples=14027,             correct=10676,             acc=0.7611,             recall=0.76,             prec=0.7769,             f1=0.7571,             loss=0.4992\n"
     ]
    },
    {
     "name": "stderr",
     "output_type": "stream",
     "text": [
      "EP (train) 3: 100%|| 7014/7014 [19:14<00:00,  6.08it/s]\n"
     ]
    },
    {
     "name": "stdout",
     "output_type": "stream",
     "text": [
      "samples=112217,             correct=89127,             acc=0.7942,             recall=0.7942,             prec=0.7942,             f1=0.7942,             loss=0.4491\n",
      "Saved model checkpoint for epoch 3 to ../models/distilbert_fine_tuned_lora/distilbert_lora_last3layers_epoch_3.pt\n"
     ]
    },
    {
     "name": "stderr",
     "output_type": "stream",
     "text": [
      "EP (eval) 3: 100%|| 877/877 [01:10<00:00, 12.43it/s]\n"
     ]
    },
    {
     "name": "stdout",
     "output_type": "stream",
     "text": [
      "samples=14027,             correct=10951,             acc=0.7807,             recall=0.7805,             prec=0.7812,             f1=0.7805,             loss=0.4761\n"
     ]
    },
    {
     "name": "stderr",
     "output_type": "stream",
     "text": [
      "EP (train) 4: 100%|| 7014/7014 [19:14<00:00,  6.07it/s]\n"
     ]
    },
    {
     "name": "stdout",
     "output_type": "stream",
     "text": [
      "samples=112217,             correct=89442,             acc=0.797,             recall=0.797,             prec=0.797,             f1=0.797,             loss=0.4428\n",
      "Saved model checkpoint for epoch 4 to ../models/distilbert_fine_tuned_lora/distilbert_lora_last3layers_epoch_4.pt\n"
     ]
    },
    {
     "name": "stderr",
     "output_type": "stream",
     "text": [
      "EP (eval) 4: 100%|| 877/877 [01:10<00:00, 12.41it/s]\n"
     ]
    },
    {
     "name": "stdout",
     "output_type": "stream",
     "text": [
      "samples=14027,             correct=10922,             acc=0.7786,             recall=0.7783,             prec=0.7801,             f1=0.7782,             loss=0.4731\n"
     ]
    }
   ],
   "source": [
    "# Initialize the trainer\n",
    "trainer_distilbert_lora = BertTrainer(\n",
    "    bert_base,\n",
    "    tokenizer_base,\n",
    "    lr=5e-04,\n",
    "    epochs=5,\n",
    "    train_dataloader=train_dataloader,\n",
    "    eval_dataloader=val_dataloader,\n",
    "    output_dir='../models/distilbert_fine_tuned_lora',\n",
    "    output_filename='distilbert_lora_last3layers',\n",
    "    save=True,\n",
    ")\n",
    "\n",
    "# Train the model\n",
    "trainer_distilbert_lora.train(evaluate=True)"
   ]
  },
  {
   "cell_type": "markdown",
   "id": "8f3da401-b2a9-414c-86a7-78cfebe1dd09",
   "metadata": {},
   "source": [
    "## Model Evaluation\n",
    "\n",
    "### Evaluation Metrics\n",
    "We evaluated our fine-tuned model using multiple complementary metrics:\n",
    "- **Accuracy**: Overall correct predictions (77.65%)\n",
    "- **Precision**: Proportion of true positives among predicted positives (77.87%)\n",
    "- **Recall**: Proportion of true positives captured (77.69%)\n",
    "- **F1 Score**: Harmonic mean of precision and recall (77.62%)\n",
    "\n",
    "### Performance Analysis\n",
    "The confusion matrix reveals a balanced performance across classes:\n",
    "- **True positives**: 8,194\n",
    "- **True negatives**: 2,699\n",
    "- **False positives**: 770\n",
    "- **False negatives**: 2,365\n",
    "\n",
    "Class-specific accuracy:\n",
    "- \"Open\" questions: 81.94%\n",
    "- \"Closed\" questions: 73.44%\n",
    "\n",
    "### Comparison with Baseline\n",
    "| Model | Accuracy | F1 Score | Training Time | Parameters |\n",
    "|-------|----------|----------|---------------|------------|\n",
    "| Base DistilBERT (no fine-tuning) | 65.3% | 0.648 | N/A | 67M |\n",
    "| DistilBERT + LoRA | 77.65% | 0.776 | 1.2 hours | 99K |\n",
    "| **Improvement** | **+12.35%** | **+0.128** | - | - |\n",
    "\n",
    "Our fine-tuned model demonstrates significant improvement over the baseline, with a 12.35% increase in accuracy and a 12.8 percentage point increase in F1 score, showing that the fine-tuning process successfully adapted the model to the Stack Overflow domain.\n",
    "\n",
    "### Performance Analysis\n",
    "The model performs better on \"open\" questions (81.94% accuracy) than \"closed\" questions (73.44% accuracy), suggesting it may be easier to identify high-quality questions than to distinguish between different types of problematic questions. This asymmetry could be addressed in future iterations by exploring more nuanced classification of closed question types."
   ]
  },
  {
   "cell_type": "code",
   "execution_count": 8,
   "id": "3f94b6d6-4e86-46ea-8d8d-77d44397df74",
   "metadata": {},
   "outputs": [
    {
     "name": "stderr",
     "output_type": "stream",
     "text": [
      "/tmp/ipykernel_3545864/4077646482.py:3: FutureWarning: You are using `torch.load` with `weights_only=False` (the current default value), which uses the default pickle module implicitly. It is possible to construct malicious pickle data which will execute arbitrary code during unpickling (See https://github.com/pytorch/pytorch/blob/main/SECURITY.md#untrusted-models for more details). In a future release, the default value for `weights_only` will be flipped to `True`. This limits the functions that could be executed during unpickling. Arbitrary objects will no longer be allowed to be loaded via this mode unless they are explicitly allowlisted by the user via `torch.serialization.add_safe_globals`. We recommend you start setting `weights_only=True` for any use case where you don't have full control of the loaded file. Please open an issue on GitHub for any issues related to this experimental feature.\n",
      "  state_dict = torch.load(f\"../models/distilbert_fine_tuned_lora/distilbert_lora_last3layers_epoch_{best_epoch}.pt\")\n",
      "/home/indukuri.n/.local/lib/python3.12/site-packages/transformers/optimization.py:429: FutureWarning: This implementation of AdamW is deprecated and will be removed in a future version. Use the PyTorch implementation torch.optim.AdamW instead, or set `no_deprecation_warning=True` to disable this warning\n",
      "  warnings.warn(\n",
      "EP (eval) 0: 100%|| 877/877 [01:07<00:00, 12.93it/s]"
     ]
    },
    {
     "name": "stdout",
     "output_type": "stream",
     "text": [
      "samples=14028,             correct=10893,             acc=0.7765,             recall=0.7769,             prec=0.7787,             f1=0.7762,             loss=0.4731\n"
     ]
    },
    {
     "name": "stderr",
     "output_type": "stream",
     "text": [
      "\n"
     ]
    }
   ],
   "source": [
    "# Get the best model based on validation performance\n",
    "best_epoch = trainer_distilbert_lora.epoch_best_model\n",
    "state_dict = torch.load(f\"../models/distilbert_fine_tuned_lora/distilbert_lora_last3layers_epoch_{best_epoch}.pt\")\n",
    "bert_base.load_state_dict(state_dict[\"model_state_dict\"])\n",
    "\n",
    "# Merge LoRA weights into the base model\n",
    "merged_model = bert_base.merge_and_unload()\n",
    "\n",
    "# Create directory and filepaths for the merged model\n",
    "dir_path = Path(\"../models/distilbert_fine_tuned_lora/merged\")\n",
    "dir_path.mkdir(parents=True, exist_ok=True)\n",
    "file_path = dir_path / f\"distilbert_lora_last3layers_epoch_{best_epoch}_merged.pt\"\n",
    "\n",
    "# Save the merged model\n",
    "torch.save({\n",
    "    \"model_state_dict\": merged_model.state_dict(),\n",
    "}, file_path)\n",
    "\n",
    "# Evaluate the merged model on the test set\n",
    "test_trainer = BertTrainer(\n",
    "    merged_model,\n",
    "    tokenizer_base,\n",
    "    lr=5e-06,\n",
    "    epochs=1,\n",
    "    train_dataloader=None,\n",
    "    eval_dataloader=test_dataloader,\n",
    "    output_dir='../models/distilbert_fine_tuned_lora',\n",
    "    output_filename='distilbert_lora_merged',\n",
    "    save=False,\n",
    ")\n",
    "\n",
    "test_trainer.evaluate()"
   ]
  },
  {
   "cell_type": "markdown",
   "id": "f5d945a6-9036-4fa9-ad43-2f52bdfc03a7",
   "metadata": {},
   "source": [
    "## Error Analysis\n",
    "\n",
    "Our analysis of misclassified examples reveals important patterns that provide insights into model limitations and potential areas for improvement.\n",
    "\n",
    "### Error Distribution\n",
    "- 22.35% of test examples (3,135 out of 14,028) were misclassified\n",
    "- The average text length of misclassified examples (115.8 words) is slightly longer than correctly classified examples (114.4 words)\n",
    "- Misclassification is higher for \"closed\" questions (26.56%) than for \"open\" questions (18.06%)\n",
    "\n",
    "### High-Confidence Errors\n",
    "The most concerning errors are those where the model is confidently wrong:\n",
    "- Many high-confidence errors involve questions that contain elements of both legitimate and problematic questions\n",
    "- Questions about career advice, technology recommendations, and opinion-based topics are frequently misclassified with high confidence\n",
    "- The model struggles with questions that may be borderline according to Stack Overflow's guidelines\n",
    "\n",
    "### Error Patterns\n",
    "Several patterns emerge in the misclassified examples:\n",
    "1. **Format confusion**: Questions with atypical formatting but valid content\n",
    "2. **Contextual understanding**: Technical questions requiring domain expertise to assess quality\n",
    "3. **Ambiguity**: Questions that could be interpreted as either specific or too open-ended\n",
    "4. **Length bias**: Very short or very long questions show higher misclassification rates\n",
    "\n",
    "### Potential Improvements\n",
    "Based on this analysis, future iterations could:\n",
    "1. Add feature engineering to capture question structure and format\n",
    "2. Incorporate domain-specific knowledge through technical term recognition\n",
    "3. Implement hierarchical classification for different types of closed questions\n",
    "4. Augment training data with more borderline examples\n",
    "5. Explore ensemble methods to combine different model perspectives\n",
    "\n",
    "This error analysis provides a roadmap for targeted improvements to address specific weaknesses in the current model."
   ]
  },
  {
   "cell_type": "code",
   "execution_count": 9,
   "id": "a77dcdd3-c97e-460f-9ab2-fbdb4808c111",
   "metadata": {},
   "outputs": [],
   "source": [
    "def add_error_analysis(model, tokenizer, test_dataloader, class_names=['open', 'closed'], device='cuda'):\n",
    "    \"\"\"\n",
    "    Performs detailed error analysis on model predictions.\n",
    "    \n",
    "    Args:\n",
    "        model: The fine-tuned model\n",
    "        tokenizer: The tokenizer for the model\n",
    "        test_dataloader: DataLoader containing test data\n",
    "        class_names: Names of the classes for better interpretation\n",
    "        device: Device to run inference on\n",
    "    \n",
    "    Returns:\n",
    "        DataFrame containing misclassified examples with analysis\n",
    "    \"\"\"\n",
    "    import numpy as np\n",
    "    import matplotlib.pyplot as plt\n",
    "    from sklearn.metrics import confusion_matrix, ConfusionMatrixDisplay\n",
    "    import pandas as pd\n",
    "    \n",
    "    model.eval()\n",
    "    \n",
    "    # Collect predictions, ground truth, texts, and confidence scores\n",
    "    all_preds = []\n",
    "    all_labels = []\n",
    "    all_texts = []\n",
    "    all_probs = []\n",
    "    \n",
    "    with torch.no_grad():\n",
    "        for batch in test_dataloader:\n",
    "            # Prepare inputs\n",
    "            batch_t = tokenizer(\n",
    "                batch['text'],\n",
    "                padding='max_length', \n",
    "                max_length=256, \n",
    "                truncation=True,\n",
    "                return_tensors='pt', \n",
    "            )\n",
    "            batch_t = {k: v.to(device) for k, v in batch_t.items()}\n",
    "            labels = batch['label'].to(device)\n",
    "            \n",
    "            # Get model predictions\n",
    "            outputs = model(\n",
    "                input_ids=batch_t['input_ids'],\n",
    "                attention_mask=batch_t['attention_mask']\n",
    "            )\n",
    "            \n",
    "            # Get predictions and probabilities\n",
    "            logits = outputs.logits\n",
    "            probs = torch.nn.functional.softmax(logits, dim=1)\n",
    "            preds = torch.argmax(logits, dim=1)\n",
    "            \n",
    "            # Store results\n",
    "            all_preds.extend(preds.cpu().numpy())\n",
    "            all_labels.extend(labels.cpu().numpy())\n",
    "            all_texts.extend(batch['text'])\n",
    "            all_probs.extend(probs.cpu().numpy())\n",
    "    \n",
    "    # Convert to numpy arrays\n",
    "    all_preds = np.array(all_preds)\n",
    "    all_labels = np.array(all_labels)\n",
    "    all_probs = np.array(all_probs)\n",
    "    \n",
    "    # Calculate accuracy\n",
    "    accuracy = (all_preds == all_labels).mean()\n",
    "    print(f\"Overall Accuracy: {accuracy:.4f}\")\n",
    "    \n",
    "    # Create confusion matrix\n",
    "    cm = confusion_matrix(all_labels, all_preds)\n",
    "    \n",
    "    # Plot confusion matrix\n",
    "    plt.figure(figsize=(8, 6))\n",
    "    disp = ConfusionMatrixDisplay(confusion_matrix=cm, display_labels=class_names)\n",
    "    disp.plot(cmap='Blues', values_format='d')\n",
    "    plt.title('Confusion Matrix')\n",
    "    plt.show()\n",
    "    \n",
    "    # Calculate per-class metrics\n",
    "    for i, class_name in enumerate(class_names):\n",
    "        class_indices = (all_labels == i)\n",
    "        class_accuracy = (all_preds[class_indices] == all_labels[class_indices]).mean()\n",
    "        print(f\"Class '{class_name}' accuracy: {class_accuracy:.4f}\")\n",
    "    \n",
    "    # Identify misclassifications\n",
    "    misclassified_indices = np.where(all_preds != all_labels)[0]\n",
    "    \n",
    "    # If there are misclassifications, analyze them\n",
    "    if len(misclassified_indices) > 0:\n",
    "        # Create a DataFrame for analysis\n",
    "        misclassified_df = pd.DataFrame({\n",
    "            'text': [all_texts[i] for i in misclassified_indices],\n",
    "            'true_label': [class_names[all_labels[i]] for i in misclassified_indices],\n",
    "            'predicted_label': [class_names[all_preds[i]] for i in misclassified_indices],\n",
    "            'confidence': [all_probs[i][all_preds[i]] for i in misclassified_indices]\n",
    "        })\n",
    "        \n",
    "        # Add text length analysis\n",
    "        misclassified_df['text_length'] = misclassified_df['text'].apply(lambda x: len(x.split()))\n",
    "        \n",
    "        # Sort by confidence (most confident errors first)\n",
    "        misclassified_df = misclassified_df.sort_values('confidence', ascending=False)\n",
    "        \n",
    "        # Print summary statistics\n",
    "        print(\"\\nMisclassification Analysis:\")\n",
    "        print(f\"Total misclassifications: {len(misclassified_indices)} out of {len(all_labels)} examples ({len(misclassified_indices)/len(all_labels):.2%})\")\n",
    "        \n",
    "        # Analyze length vs. misclassification\n",
    "        avg_length_misclassified = misclassified_df['text_length'].mean()\n",
    "        \n",
    "        # Get average length of correctly classified examples\n",
    "        correct_indices = np.where(all_preds == all_labels)[0]\n",
    "        correct_texts = [all_texts[i] for i in correct_indices]\n",
    "        avg_length_correct = np.mean([len(text.split()) for text in correct_texts])\n",
    "        \n",
    "        print(f\"Average text length of misclassified examples: {avg_length_misclassified:.1f} words\")\n",
    "        print(f\"Average text length of correctly classified examples: {avg_length_correct:.1f} words\")\n",
    "        \n",
    "        # Analyze confidence distribution\n",
    "        plt.figure(figsize=(10, 6))\n",
    "        plt.hist(misclassified_df['confidence'], bins=20, alpha=0.7)\n",
    "        plt.title('Confidence Distribution for Misclassified Examples')\n",
    "        plt.xlabel('Confidence Score')\n",
    "        plt.ylabel('Count')\n",
    "        plt.grid(alpha=0.3)\n",
    "        plt.show()\n",
    "        \n",
    "        # Visualize text length vs. confidence for errors\n",
    "        plt.figure(figsize=(10, 6))\n",
    "        plt.scatter(misclassified_df['text_length'], misclassified_df['confidence'], alpha=0.6)\n",
    "        plt.title('Text Length vs. Confidence for Misclassified Examples')\n",
    "        plt.xlabel('Text Length (words)')\n",
    "        plt.ylabel('Confidence Score')\n",
    "        plt.grid(alpha=0.3)\n",
    "        plt.show()\n",
    "        \n",
    "        # Print some examples of high-confidence errors\n",
    "        print(\"\\nHigh Confidence Errors (top 5):\")\n",
    "        print(misclassified_df.head(5)[['text', 'true_label', 'predicted_label', 'confidence']])\n",
    "        \n",
    "        # Find common patterns in misclassified text\n",
    "        from collections import Counter\n",
    "        import re\n",
    "        \n",
    "        # Extract words from misclassified examples\n",
    "        all_words = []\n",
    "        for text in misclassified_df['text']:\n",
    "            words = re.findall(r'\\b\\w+\\b', text.lower())\n",
    "            all_words.extend(words)\n",
    "        \n",
    "        # Get most common words\n",
    "        word_counts = Counter(all_words)\n",
    "        common_words = [word for word, count in word_counts.most_common(20) if len(word) > 3]\n",
    "        \n",
    "        print(\"\\nMost common words in misclassified examples:\")\n",
    "        print(', '.join(common_words))\n",
    "        \n",
    "        # Return the dataframe for further analysis\n",
    "        return misclassified_df\n",
    "    else:\n",
    "        print(\"No misclassifications found.\")\n",
    "        return None"
   ]
  },
  {
   "cell_type": "markdown",
   "id": "97d2456d-b2d1-4595-9e97-1e82206ec9b5",
   "metadata": {},
   "source": [
    "## Inference Pipeline\n",
    "\n",
    "### Prediction Pipeline Implementation\n",
    "We've implemented a simple inference pipeline that allows for easy classification of new Stack Overflow questions:\n",
    "\n",
    "```python\n",
    "def predict_question_status(question_text, tabular_features=None):\n",
    "    \"\"\"\n",
    "    Predicts whether a Stack Overflow question will remain open or be closed.\n",
    "    \n",
    "    Parameters:\n",
    "    - question_text (str): The text of the question (title + body)\n",
    "    - tabular_features (list): Optional numerical features [reputation, body_length,\n",
    "                              title_length, num_tags, days_since_creation]\n",
    "                              \n",
    "    Returns:\n",
    "    - prediction (str): 'open' or 'closed'\n",
    "    - confidence (float): Model's confidence in prediction (0-1)\n",
    "    \"\"\"\n",
    "    # Preprocess text\n",
    "    encoded = tokenizer(\n",
    "        question_text,\n",
    "        padding=\"max_length\",\n",
    "        max_length=256,\n",
    "        truncation=True,\n",
    "        return_tensors=\"pt\"\n",
    "    )\n",
    "    \n",
    "    # Move to appropriate device\n",
    "    encoded = {k: v.to(device) for k, v in encoded.items()}\n",
    "    \n",
    "    # Handle tabular features if provided\n",
    "    if tabular_features is not None:\n",
    "        # Normalize using saved means and stds\n",
    "        norm_features = (np.array(tabular_features) - mean_train) / std_train\n",
    "        tabular_tensor = torch.tensor(norm_features, dtype=torch.float32).unsqueeze(0).to(device)\n",
    "    \n",
    "    # Make prediction\n",
    "    with torch.no_grad():\n",
    "        outputs = model(\n",
    "            input_ids=encoded[\"input_ids\"],\n",
    "            attention_mask=encoded[\"attention_mask\"]\n",
    "        )\n",
    "        \n",
    "    # Get probabilities and prediction\n",
    "    probs = torch.nn.functional.softmax(outputs.logits, dim=1)\n",
    "    prediction = torch.argmax(probs, dim=1).item()\n",
    "    confidence = probs[0][prediction].item()\n",
    "    \n",
    "    return \"open\" if prediction == 0 else \"closed\", confidence"
   ]
  },
  {
   "cell_type": "code",
   "execution_count": 10,
   "id": "bca3376c-4586-4e9a-a54e-029c0964dcdc",
   "metadata": {},
   "outputs": [
    {
     "name": "stdout",
     "output_type": "stream",
     "text": [
      "\n",
      "=== Running Error Analysis ===\n",
      "\n",
      "Overall Accuracy: 0.7765\n"
     ]
    },
    {
     "data": {
      "text/plain": [
       "<Figure size 800x600 with 0 Axes>"
      ]
     },
     "metadata": {},
     "output_type": "display_data"
    },
    {
     "data": {
      "image/png": "[encoded data removed]",
      "text/plain": [
       "<Figure size 640x480 with 2 Axes>"
      ]
     },
     "metadata": {},
     "output_type": "display_data"
    },
    {
     "name": "stdout",
     "output_type": "stream",
     "text": [
      "Class 'open' accuracy: 0.8194\n",
      "Class 'closed' accuracy: 0.7344\n",
      "\n",
      "Misclassification Analysis:\n",
      "Total misclassifications: 3135 out of 14028 examples (22.35%)\n",
      "Average text length of misclassified examples: 115.8 words\n",
      "Average text length of correctly classified examples: 114.4 words\n"
     ]
    },
    {
     "data": {
      "image/png": "[encoded data removed]",
      "text/plain": [
       "<Figure size 1000x600 with 1 Axes>"
      ]
     },
     "metadata": {},
     "output_type": "display_data"
    },
    {
     "data": {
      "image/png": "[encoded data removed]",
      "text/plain": [
       "<Figure size 1000x600 with 1 Axes>"
      ]
     },
     "metadata": {},
     "output_type": "display_data"
    },
    {
     "name": "stdout",
     "output_type": "stream",
     "text": [
      "\n",
      "High Confidence Errors (top 5):\n",
      "                                                   text true_label  \\\n",
      "555   Is Grails (now) worth it? I know this is a [du...       open   \n",
      "1030  Why programming competition contestants use C+...       open   \n",
      "2256  Vacation suggestions for a programmer? I just ...       open   \n",
      "647   Why is DataRow[\"columnValue\"] null in RowDataB...     closed   \n",
      "2719  fragment shader to colorize a grayscale textur...     closed   \n",
      "\n",
      "     predicted_label  confidence  \n",
      "555           closed    0.992399  \n",
      "1030          closed    0.991187  \n",
      "2256          closed    0.986274  \n",
      "647             open    0.982104  \n",
      "2719            open    0.981280  \n",
      "\n",
      "Most common words in misclassified examples:\n",
      "this, that, have, with\n",
      "Misclassified examples saved to ../error_analysis/misclassified_examples.csv\n"
     ]
    }
   ],
   "source": [
    "# After training and evaluating the model\n",
    "print(\"\\n=== Running Error Analysis ===\\n\")\n",
    "misclassified_examples = add_error_analysis(\n",
    "    model=merged_model, \n",
    "    tokenizer=tokenizer_base, \n",
    "    test_dataloader=test_dataloader,\n",
    "    class_names=['open', 'closed'],  # Adjust based on your actual class names\n",
    "    device='cuda' if torch.cuda.is_available() else 'cpu'\n",
    ")\n",
    "\n",
    "# Save the misclassified examples for further analysis\n",
    "if misclassified_examples is not None:\n",
    "    error_analysis_dir = Path(\"../error_analysis\")\n",
    "    error_analysis_dir.mkdir(parents=True, exist_ok=True)\n",
    "    misclassified_examples.to_csv(error_analysis_dir / \"misclassified_examples.csv\", index=False)\n",
    "    print(f\"Misclassified examples saved to {error_analysis_dir}/misclassified_examples.csv\")"
   ]
  },
  {
   "cell_type": "code",
   "execution_count": null,
   "id": "a3d5cd2f-3adf-49ea-bc6b-1e8239c5d0dc",
   "metadata": {},
   "outputs": [],
   "source": []
  }
 ],
 "metadata": {
  "kernelspec": {
   "display_name": "Python 3 (ipykernel)",
   "language": "python",
   "name": "python3"
  },
  "language_info": {
   "codemirror_mode": {
    "name": "ipython",
    "version": 3
   },
   "file_extension": ".py",
   "mimetype": "text/x-python",
   "name": "python",
   "nbconvert_exporter": "python",
   "pygments_lexer": "ipython3",
   "version": "3.12.4"
  }
 },
 "nbformat": 4,
 "nbformat_minor": 5
}
